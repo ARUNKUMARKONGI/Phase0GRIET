{
 "cells": [
  {
   "cell_type": "code",
   "execution_count": 1,
   "metadata": {},
   "outputs": [
    {
     "name": "stdout",
     "output_type": "stream",
     "text": [
      "my name is: arun\n",
      "my name is: arun\n",
      "my name is: arun\n"
     ]
    }
   ],
   "source": [
    "var=\"arun\"\n",
    "print(\"my name is: \"+ var)\n",
    "print(\"my name is:\",var)\n",
    "print(\"my name is: {}\".format(var))"
   ]
  },
  {
   "cell_type": "markdown",
   "metadata": {},
   "source": [
    "Data types in Python"
   ]
  },
  {
   "cell_type": "code",
   "execution_count": 3,
   "metadata": {},
   "outputs": [
    {
     "name": "stdout",
     "output_type": "stream",
     "text": [
      "road to success\n"
     ]
    }
   ],
   "source": [
    "print(\"{0} to {1}\".format(\"road\",\"success\"))"
   ]
  },
  {
   "cell_type": "code",
   "execution_count": 1,
   "metadata": {},
   "outputs": [
    {
     "name": "stdout",
     "output_type": "stream",
     "text": [
      "Invalid Choice\n"
     ]
    }
   ],
   "source": [
    "ch=int(input())\n",
    "if ch==1:\n",
    "    print(\"Python\")\n",
    "elif ch==2:\n",
    "    print(\"java\")\n",
    "elif ch==3:\n",
    "    print(\"C++\")\n",
    "else:\n",
    "    print(\"Invalid Choice\")"
   ]
  },
  {
   "cell_type": "code",
   "execution_count": 1,
   "metadata": {},
   "outputs": [
    {
     "name": "stdout",
     "output_type": "stream",
     "text": [
      "5\n"
     ]
    }
   ],
   "source": [
    "n=int(input())\n",
    "b=bin(n)[2:]\n",
    "r=b[::-1]\n",
    "print(int(r,2))"
   ]
  }
 ],
 "metadata": {
  "kernelspec": {
   "display_name": "base",
   "language": "python",
   "name": "python3"
  },
  "language_info": {
   "codemirror_mode": {
    "name": "ipython",
    "version": 3
   },
   "file_extension": ".py",
   "mimetype": "text/x-python",
   "name": "python",
   "nbconvert_exporter": "python",
   "pygments_lexer": "ipython3",
   "version": "3.12.4"
  }
 },
 "nbformat": 4,
 "nbformat_minor": 2
}
