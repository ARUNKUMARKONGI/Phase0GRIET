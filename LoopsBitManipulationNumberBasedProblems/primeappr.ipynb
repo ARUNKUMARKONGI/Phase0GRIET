{
 "cells": [
  {
   "cell_type": "markdown",
   "metadata": {},
   "source": [
    "   \n",
    "   ###### When checking if a number  is prime, you only need to check for factors up to the square root of  n\n",
    "    for example if n=a*b then one of those factors must be less than or equal to the square root of n.\n",
    "\n",
    "        for example: 29, sqrt of 29 is 5.36.. we need to check for divisors from 2 to 5 only.\n",
    "    the nearest to 29 is 5*5=25 if one of the value exceeds sqrt of n, then we cross the boundary of 29. "
   ]
  },
  {
   "cell_type": "code",
   "execution_count": 1,
   "metadata": {},
   "outputs": [
    {
     "name": "stdout",
     "output_type": "stream",
     "text": [
      "2 is a prime number\n"
     ]
    }
   ],
   "source": [
    "import math\n",
    "n = int(input())\n",
    "flag = 0\n",
    "if n <= 1:\n",
    "    print(f\"{n} is not a prime number\")\n",
    "elif n == 2:\n",
    "    print(f\"{n} is a prime number\")\n",
    "else:\n",
    "    for i in range(2, int(math.sqrt(n)) + 1):\n",
    "        if n % i == 0:\n",
    "            flag = 1\n",
    "            break\n",
    "    if flag == 1:\n",
    "        print(f\"{n} is not a prime number\")\n",
    "    else:\n",
    "        print(f\"{n} is a prime number\")"
   ]
  },
  {
   "cell_type": "code",
   "execution_count": null,
   "metadata": {},
   "outputs": [
    {
     "name": "stdout",
     "output_type": "stream",
     "text": [
      "prime\n"
     ]
    }
   ],
   "source": [
    "#Check if a given number is prime number\n",
    "import math\n",
    "n=2\n",
    "if n<=1:\n",
    "    print(\"not a prime\")\n",
    "    \n",
    "flag=True\n",
    "for i in range(2,math.isqrt(n)+1):\n",
    "        if n%i==0:\n",
    "            flag=False\n",
    "            break\n",
    "if flag:\n",
    "        print(\"prime\")\n",
    "else:\n",
    "        print(\"not prime\")\n",
    "\n",
    "\n",
    " # import java.util.Scanner;\n",
    "\n",
    "# public class PrimeCheck {\n",
    "#     public static void main(String[] args) {\n",
    "#         Scanner scanner = new Scanner(System.in);\n",
    "#         System.out.print(\"Enter a number: \");\n",
    "#         int n = scanner.nextInt();\n",
    "\n",
    "#         if (n <= 1) {\n",
    "#             System.out.println(\"not a prime\");\n",
    "#             return;\n",
    "#         }\n",
    "\n",
    "#         boolean flag = true;\n",
    "#         for (int i = 2; i <= Math.sqrt(n); i++) { //i*i<=n\n",
    "#             if (n % i == 0) {\n",
    "#                 flag = false;\n",
    "#                 break;\n",
    "#             }\n",
    "#         }\n",
    "\n",
    "#         if (flag) {\n",
    "#             System.out.println(\"prime\");\n",
    "#         } else {\n",
    "#             System.out.println(\"not prime\");\n",
    "#         }\n",
    "\n",
    "#         scanner.close();\n",
    "#     }\n",
    "# }\n"
   ]
  },
  {
   "cell_type": "code",
   "execution_count": null,
   "metadata": {},
   "outputs": [
    {
     "name": "stdout",
     "output_type": "stream",
     "text": [
      "Prime\n"
     ]
    }
   ],
   "source": [
    "import math\n",
    "\n",
    "n = int(input(\"Enter a number: \"))\n",
    "\n",
    "is_prime = True\n",
    "if n <= 1:\n",
    "    is_prime = False\n",
    "\n",
    "i = 2\n",
    "while i * i <= n:\n",
    "    if n % i == 0:\n",
    "        is_prime = False\n",
    "        break\n",
    "    i += 1\n",
    "\n",
    "if is_prime:\n",
    "    print(\"Prime\")\n",
    "else:\n",
    "    print(\"Not Prime\")\n"
   ]
  },
  {
   "cell_type": "code",
   "execution_count": null,
   "metadata": {},
   "outputs": [
    {
     "name": "stdout",
     "output_type": "stream",
     "text": [
      "2 3 5 7 "
     ]
    }
   ],
   "source": [
    "#print prime numbers from 1 to 10\n",
    "import math\n",
    "def isPrime(n):\n",
    "    if n<=1:\n",
    "        return False\n",
    "    for i in range(2,math.isqrt(n)+1):\n",
    "        if n%i==0:\n",
    "            return False\n",
    "    return True\n",
    "\n",
    "n=10\n",
    "for i in range(1,n+1):\n",
    "    if(isPrime(i)):\n",
    "        print(i,end= \" \")\n",
    "    \n",
    "    "
   ]
  },
  {
   "cell_type": "code",
   "execution_count": 2,
   "metadata": {},
   "outputs": [
    {
     "name": "stdout",
     "output_type": "stream",
     "text": [
      "2 3 5 7 \n",
      "2 3 5 7 11 13 17 19 \n",
      "2 3 5 7 11 13 17 19 23 29 31 37 41 43 47 53 59 61 67 71 73 79 83 89 97 \n"
     ]
    }
   ],
   "source": [
    "#number of test cases and prime numbers upto n\n",
    "import math\n",
    "def isPrime(n):\n",
    "    if n<=1:\n",
    "        return False\n",
    "    for i in range(2,math.isqrt(n)+1):\n",
    "        if n%i==0:\n",
    "            return False\n",
    "    return True\n",
    "\n",
    "def printupton(n):\n",
    "    for i in range(1,n+1):\n",
    "        if(isPrime(i)):\n",
    "            print(i,end= \" \")\n",
    "    print()\n",
    "    \n",
    "\n",
    "testcases=3\n",
    "for i in range(testcases):\n",
    "    n=int(input())\n",
    "    printupton(n)\n"
   ]
  },
  {
   "cell_type": "code",
   "execution_count": null,
   "metadata": {},
   "outputs": [
    {
     "name": "stdout",
     "output_type": "stream",
     "text": [
      "10\n",
      "2 3 5 7 11 13 17 19 23 29 "
     ]
    }
   ],
   "source": [
    "#print prime numbers upto the given count\n",
    "\n",
    "import math\n",
    "n = int(input())\n",
    "flag=1\n",
    "i=1\n",
    "count = 0\n",
    "while True:\n",
    "    i+=1\n",
    "    for j in range(2,math.isqrt(i)+1):\n",
    "        if i%j==0:\n",
    "            flag=0\n",
    "            break\n",
    "    if flag==1:\n",
    "        print(i,end=\" \")\n",
    "        count+=1\n",
    "    if count==n:\n",
    "        break\n",
    "    flag=1"
   ]
  },
  {
   "cell_type": "code",
   "execution_count": null,
   "metadata": {},
   "outputs": [
    {
     "name": "stdout",
     "output_type": "stream",
     "text": [
      "5\n",
      "2 3 5 7 11 "
     ]
    }
   ],
   "source": [
    "#alternative approach\n",
    "def primechecker(n):\n",
    "    if n<=1:\n",
    "        return False\n",
    "    else:\n",
    "        for i in range(2,n):\n",
    "            if n%i==0:\n",
    "                return False\n",
    "    return True\n",
    "\n",
    "n=int(input())\n",
    "count=0\n",
    "i=1\n",
    "while count<n:\n",
    "    res=primechecker(i)\n",
    "    if res:\n",
    "        print(i,end=\" \")\n",
    "        count+=1\n",
    "    i+=1\n",
    "    "
   ]
  },
  {
   "cell_type": "code",
   "execution_count": 3,
   "metadata": {},
   "outputs": [
    {
     "name": "stdout",
     "output_type": "stream",
     "text": [
      "[2, 3, 5, 7, 11]\n"
     ]
    }
   ],
   "source": [
    "#better approach than previous o(n2logn)\n",
    "def print_primes(n):\n",
    "    primes = []\n",
    "    num = 2\n",
    "    while len(primes) < n:\n",
    "        for p in primes:\n",
    "            if num % p == 0:\n",
    "                break\n",
    "    else:\n",
    "        primes.append(num)\n",
    "        num += 1\n",
    "        \n",
    "    print(primes)\n",
    "\n",
    "print_primes(5)"
   ]
  },
  {
   "cell_type": "code",
   "execution_count": null,
   "metadata": {},
   "outputs": [
    {
     "name": "stdout",
     "output_type": "stream",
     "text": [
      "4 6 8 10 12 14 16 18 20 "
     ]
    }
   ],
   "source": [
    "i=2\n",
    "for j in range(i * i, 20 + 1, i):\n",
    "        print(j,end=\" \")"
   ]
  },
  {
   "cell_type": "markdown",
   "metadata": {},
   "source": [
    "### Sieve of eratosthenes: the most optimized prime number logic"
   ]
  },
  {
   "cell_type": "code",
   "execution_count": null,
   "metadata": {},
   "outputs": [
    {
     "name": "stdout",
     "output_type": "stream",
     "text": [
      "Enter the starting value of the range: 1\n",
      "Enter the ending value of the range: 10\n",
      "Prime numbers between 2 and 10 are:\n",
      "2 3 5 7 \n"
     ]
    }
   ],
   "source": [
    "import math\n",
    "\n",
    "def sieve_of_eratosthenes(x, limit):\n",
    "    primes = [True] * (limit + 1)\n",
    "    primes[0] = primes[1] = False\n",
    "    \n",
    "    for i in range(2, math.isqrt(limit) + 1):\n",
    "        if primes[i]:\n",
    "            for j in range(i * i, limit + 1, i):\n",
    "                primes[j] = False\n",
    "    \n",
    "    res = []\n",
    "    for i in range(x, limit + 1):\n",
    "        if primes[i]:\n",
    "            res.append(i)\n",
    "    \n",
    "    return res\n",
    "\n",
    "x = int(input(\"Enter the starting value of the range: \"))\n",
    "y = int(input(\"Enter the ending value of the range: \"))\n",
    "\n",
    "if x < 2:\n",
    "    x = 2\n",
    "\n",
    "result = sieve_of_eratosthenes(x, y)\n",
    "\n",
    "print(f\"Prime numbers between {x} and {y} are:\")\n",
    "\n",
    "for i in result:\n",
    "    print(i, end=' ')\n",
    "print()"
   ]
  },
  {
   "cell_type": "markdown",
   "metadata": {},
   "source": [
    "<!-- #include <stdio.h>\n",
    "#include <stdbool.h>\n",
    "\n",
    "int main() {\n",
    "    int n;\n",
    "    scanf(\"%d\", &n);\n",
    "    \n",
    "    bool prime[n + 1];\n",
    "\n",
    "    for (int i = 0; i <= n; i++)\n",
    "        prime[i] = true;\n",
    "\n",
    "    for (int p = 2; p * p <= n; p++) {\n",
    "        if (prime[p]) {\n",
    "            for (int i = p * p; i <= n; i += p)\n",
    "                prime[i] = false;\n",
    "        }\n",
    "    }\n",
    "\n",
    "    for (int p = 2; p <= n; p++) {\n",
    "        if (prime[p])\n",
    "            printf(\"%d \", p);\n",
    "    }\n",
    "\n",
    "    return 0;\n",
    "} -->"
   ]
  },
  {
   "cell_type": "code",
   "execution_count": null,
   "metadata": {},
   "outputs": [],
   "source": [
    "# # #include <stdio.h>\n",
    "# # #include <stdbool.h>\n",
    "\n",
    "# # int main() {\n",
    "# #     int n;\n",
    "# #     scanf(\"%d\", &n);\n",
    "    \n",
    "# #     bool prime[n + 1];\n",
    "\n",
    "# #     for (int i = 0; i <= n; i++)\n",
    "# #         prime[i] = true;\n",
    "\n",
    "# #     for (int p = 2; p * p <= n; p++) {\n",
    "# #         if (prime[p]) {\n",
    "# #             for (int i = p * p; i <= n; i += p)\n",
    "# #                 prime[i] = false;\n",
    "# #         }\n",
    "# #     }\n",
    "\n",
    "# #     for (int p = 2; p <= n; p++) {\n",
    "# #         if (prime[p])\n",
    "# #             printf(\"%d \", p);\n",
    "# #     }\n",
    "\n",
    "# #     return 0;\n",
    "# # }\n",
    "\n",
    "\n",
    "import java.util.Scanner;\n",
    "\n",
    "public class SieveOfEratosthenes {\n",
    "    public static void main(String[] args) {\n",
    "        Scanner scanner = new Scanner(System.in);\n",
    "        System.out.print(\"Enter a number: \");\n",
    "        int n = scanner.nextInt();\n",
    "        \n",
    "        boolean[] prime = new boolean[n + 1];\n",
    "        \n",
    "      \n",
    "        for (int i = 0; i <= n; i++) {\n",
    "            prime[i] = true;\n",
    "        }\n",
    "        \n",
    "    \n",
    "        for (int p = 2; p * p <= n; p++) {\n",
    "            if (prime[p]) {\n",
    "                for (int i = p * p; i <= n; i += p) {\n",
    "                    prime[i] = false;\n",
    "                }\n",
    "            }\n",
    "        }\n",
    "        \n",
    "    \n",
    "        System.out.println(\"Prime numbers up to \" + n + \":\");\n",
    "        for (int p = 2; p <= n; p++) {\n",
    "            if (prime[p]) {\n",
    "                System.out.print(p + \" \");\n",
    "            }\n",
    "        }\n",
    "        \n",
    "        scanner.close();\n",
    "    }\n",
    "}\n"
   ]
  }
 ],
 "metadata": {
  "kernelspec": {
   "display_name": "base",
   "language": "python",
   "name": "python3"
  },
  "language_info": {
   "codemirror_mode": {
    "name": "ipython",
    "version": 3
   },
   "file_extension": ".py",
   "mimetype": "text/x-python",
   "name": "python",
   "nbconvert_exporter": "python",
   "pygments_lexer": "ipython3",
   "version": "3.12.4"
  }
 },
 "nbformat": 4,
 "nbformat_minor": 2
}
